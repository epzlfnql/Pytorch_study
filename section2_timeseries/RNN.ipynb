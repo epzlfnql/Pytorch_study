{
 "cells": [
  {
   "cell_type": "markdown",
   "metadata": {},
   "source": [
    "# RNN"
   ]
  },
  {
   "cell_type": "code",
   "execution_count": 1,
   "metadata": {},
   "outputs": [],
   "source": [
    "import numpy as np\n",
    "import pandas as pd\n",
    "from sklearn.preprocessing import MinMaxScaler\n",
    "\n",
    "from bs4 import BeautifulSoup\n",
    "import torch\n",
    "import torch.nn as nn\n",
    "import torch.optim as optim\n",
    "\n",
    "import matplotlib.pyplot as plt\n"
   ]
  },
  {
   "cell_type": "markdown",
   "metadata": {},
   "source": [
    "# 데이터 불러오기\n"
   ]
  },
  {
   "cell_type": "code",
   "execution_count": 2,
   "metadata": {},
   "outputs": [],
   "source": [
    "import FinanceDataReader as fdr\n",
    "emro_stock = fdr.DataReader('058970', start = '2018-01-01', end = '2023-04-05')"
   ]
  },
  {
   "cell_type": "code",
   "execution_count": 3,
   "metadata": {},
   "outputs": [
    {
     "data": {
      "text/html": [
       "<div>\n",
       "<style scoped>\n",
       "    .dataframe tbody tr th:only-of-type {\n",
       "        vertical-align: middle;\n",
       "    }\n",
       "\n",
       "    .dataframe tbody tr th {\n",
       "        vertical-align: top;\n",
       "    }\n",
       "\n",
       "    .dataframe thead th {\n",
       "        text-align: right;\n",
       "    }\n",
       "</style>\n",
       "<table border=\"1\" class=\"dataframe\">\n",
       "  <thead>\n",
       "    <tr style=\"text-align: right;\">\n",
       "      <th></th>\n",
       "      <th>Open</th>\n",
       "      <th>High</th>\n",
       "      <th>Low</th>\n",
       "      <th>Close</th>\n",
       "      <th>Volume</th>\n",
       "      <th>Change</th>\n",
       "    </tr>\n",
       "    <tr>\n",
       "      <th>Date</th>\n",
       "      <th></th>\n",
       "      <th></th>\n",
       "      <th></th>\n",
       "      <th></th>\n",
       "      <th></th>\n",
       "      <th></th>\n",
       "    </tr>\n",
       "  </thead>\n",
       "  <tbody>\n",
       "    <tr>\n",
       "      <th>2018-01-02</th>\n",
       "      <td>2985</td>\n",
       "      <td>2985</td>\n",
       "      <td>2360</td>\n",
       "      <td>2650</td>\n",
       "      <td>25478</td>\n",
       "      <td>-0.018519</td>\n",
       "    </tr>\n",
       "    <tr>\n",
       "      <th>2018-01-03</th>\n",
       "      <td>2700</td>\n",
       "      <td>2890</td>\n",
       "      <td>2700</td>\n",
       "      <td>2800</td>\n",
       "      <td>8374</td>\n",
       "      <td>0.056604</td>\n",
       "    </tr>\n",
       "    <tr>\n",
       "      <th>2018-01-04</th>\n",
       "      <td>2800</td>\n",
       "      <td>2800</td>\n",
       "      <td>2795</td>\n",
       "      <td>2795</td>\n",
       "      <td>1948</td>\n",
       "      <td>-0.001786</td>\n",
       "    </tr>\n",
       "    <tr>\n",
       "      <th>2018-01-05</th>\n",
       "      <td>2795</td>\n",
       "      <td>2800</td>\n",
       "      <td>2795</td>\n",
       "      <td>2800</td>\n",
       "      <td>1321</td>\n",
       "      <td>0.001789</td>\n",
       "    </tr>\n",
       "    <tr>\n",
       "      <th>2018-01-08</th>\n",
       "      <td>2705</td>\n",
       "      <td>2795</td>\n",
       "      <td>2705</td>\n",
       "      <td>2795</td>\n",
       "      <td>425</td>\n",
       "      <td>-0.001786</td>\n",
       "    </tr>\n",
       "    <tr>\n",
       "      <th>...</th>\n",
       "      <td>...</td>\n",
       "      <td>...</td>\n",
       "      <td>...</td>\n",
       "      <td>...</td>\n",
       "      <td>...</td>\n",
       "      <td>...</td>\n",
       "    </tr>\n",
       "    <tr>\n",
       "      <th>2023-03-30</th>\n",
       "      <td>54500</td>\n",
       "      <td>59400</td>\n",
       "      <td>53200</td>\n",
       "      <td>54700</td>\n",
       "      <td>577812</td>\n",
       "      <td>-0.023214</td>\n",
       "    </tr>\n",
       "    <tr>\n",
       "      <th>2023-03-31</th>\n",
       "      <td>53600</td>\n",
       "      <td>57000</td>\n",
       "      <td>51500</td>\n",
       "      <td>55300</td>\n",
       "      <td>435436</td>\n",
       "      <td>0.010969</td>\n",
       "    </tr>\n",
       "    <tr>\n",
       "      <th>2023-04-03</th>\n",
       "      <td>55200</td>\n",
       "      <td>56400</td>\n",
       "      <td>53000</td>\n",
       "      <td>53600</td>\n",
       "      <td>298290</td>\n",
       "      <td>-0.030741</td>\n",
       "    </tr>\n",
       "    <tr>\n",
       "      <th>2023-04-04</th>\n",
       "      <td>52500</td>\n",
       "      <td>56800</td>\n",
       "      <td>52000</td>\n",
       "      <td>54900</td>\n",
       "      <td>355524</td>\n",
       "      <td>0.024254</td>\n",
       "    </tr>\n",
       "    <tr>\n",
       "      <th>2023-04-05</th>\n",
       "      <td>54000</td>\n",
       "      <td>56300</td>\n",
       "      <td>53100</td>\n",
       "      <td>56000</td>\n",
       "      <td>291595</td>\n",
       "      <td>0.020036</td>\n",
       "    </tr>\n",
       "  </tbody>\n",
       "</table>\n",
       "<p>1297 rows × 6 columns</p>\n",
       "</div>"
      ],
      "text/plain": [
       "             Open   High    Low  Close  Volume    Change\n",
       "Date                                                    \n",
       "2018-01-02   2985   2985   2360   2650   25478 -0.018519\n",
       "2018-01-03   2700   2890   2700   2800    8374  0.056604\n",
       "2018-01-04   2800   2800   2795   2795    1948 -0.001786\n",
       "2018-01-05   2795   2800   2795   2800    1321  0.001789\n",
       "2018-01-08   2705   2795   2705   2795     425 -0.001786\n",
       "...           ...    ...    ...    ...     ...       ...\n",
       "2023-03-30  54500  59400  53200  54700  577812 -0.023214\n",
       "2023-03-31  53600  57000  51500  55300  435436  0.010969\n",
       "2023-04-03  55200  56400  53000  53600  298290 -0.030741\n",
       "2023-04-04  52500  56800  52000  54900  355524  0.024254\n",
       "2023-04-05  54000  56300  53100  56000  291595  0.020036\n",
       "\n",
       "[1297 rows x 6 columns]"
      ]
     },
     "metadata": {},
     "output_type": "display_data"
    },
    {
     "name": "stdout",
     "output_type": "stream",
     "text": [
      "<class 'pandas.core.frame.DataFrame'>\n",
      "DatetimeIndex: 1297 entries, 2018-01-02 to 2023-04-05\n",
      "Data columns (total 6 columns):\n",
      " #   Column  Non-Null Count  Dtype  \n",
      "---  ------  --------------  -----  \n",
      " 0   Open    1297 non-null   int64  \n",
      " 1   High    1297 non-null   int64  \n",
      " 2   Low     1297 non-null   int64  \n",
      " 3   Close   1297 non-null   int64  \n",
      " 4   Volume  1297 non-null   int64  \n",
      " 5   Change  1297 non-null   float64\n",
      "dtypes: float64(1), int64(5)\n",
      "memory usage: 70.9 KB\n"
     ]
    },
    {
     "data": {
      "text/plain": [
       "None"
      ]
     },
     "metadata": {},
     "output_type": "display_data"
    }
   ],
   "source": [
    "display(emro_stock)\n",
    "display(emro_stock.info())"
   ]
  },
  {
   "cell_type": "code",
   "execution_count": 4,
   "metadata": {},
   "outputs": [],
   "source": [
    "# 결측치 처리\n",
    "emro_stock = emro_stock.interpolate()\n",
    "scaler = MinMaxScaler()\n",
    "\n",
    "df = emro_stock.copy()\n",
    "df[['Open', 'High', 'Low', 'Close', 'Volumne']] = scaler.fit_transform(df[['Open', 'High', 'Low', 'Close', 'Volume']])"
   ]
  },
  {
   "cell_type": "code",
   "execution_count": 5,
   "metadata": {},
   "outputs": [
    {
     "name": "stdout",
     "output_type": "stream",
     "text": [
      "<class 'pandas.core.frame.DataFrame'>\n",
      "DatetimeIndex: 1297 entries, 2018-01-02 to 2023-04-05\n",
      "Data columns (total 7 columns):\n",
      " #   Column   Non-Null Count  Dtype  \n",
      "---  ------   --------------  -----  \n",
      " 0   Open     1297 non-null   float64\n",
      " 1   High     1297 non-null   float64\n",
      " 2   Low      1297 non-null   float64\n",
      " 3   Close    1297 non-null   float64\n",
      " 4   Volume   1297 non-null   int64  \n",
      " 5   Change   1297 non-null   float64\n",
      " 6   Volumne  1297 non-null   float64\n",
      "dtypes: float64(6), int64(1)\n",
      "memory usage: 81.1 KB\n"
     ]
    }
   ],
   "source": [
    "df.info()"
   ]
  },
  {
   "cell_type": "markdown",
   "metadata": {},
   "source": [
    "### 텐서 데이터 만들기"
   ]
  },
  {
   "cell_type": "code",
   "execution_count": 6,
   "metadata": {},
   "outputs": [
    {
     "name": "stdout",
     "output_type": "stream",
     "text": [
      "cuda:0 is available\n"
     ]
    }
   ],
   "source": [
    "# CPU / GPU\n",
    "device = torch.device('cuda:0' if torch.cuda.is_available() else 'cpu')\n",
    "print(f'{device} is available')"
   ]
  },
  {
   "cell_type": "code",
   "execution_count": 7,
   "metadata": {},
   "outputs": [],
   "source": [
    "# Dataset\n",
    "X = df[['Open', 'High', 'Low', 'Volume']].values\n",
    "y = df['Close'].values\n"
   ]
  },
  {
   "cell_type": "code",
   "execution_count": 8,
   "metadata": {},
   "outputs": [
    {
     "name": "stdout",
     "output_type": "stream",
     "text": [
      "torch.Size([200, 5, 4]) torch.Size([200, 1])\n",
      "torch.Size([1092, 5, 4]) torch.Size([1092, 1])\n"
     ]
    },
    {
     "name": "stderr",
     "output_type": "stream",
     "text": [
      "C:\\Users\\user\\AppData\\Local\\Temp\\ipykernel_7296\\2064190101.py:9: UserWarning: Creating a tensor from a list of numpy.ndarrays is extremely slow. Please consider converting the list to a single numpy.ndarray with numpy.array() before converting to a tensor. (Triggered internally at C:\\actions-runner\\_work\\pytorch\\pytorch\\builder\\windows\\pytorch\\torch\\csrc\\utils\\tensor_new.cpp:248.)\n",
      "  return torch.FloatTensor(x_seq).to(device), torch.FloatTensor(y_seq).to(device).view([-1, 1])\n"
     ]
    }
   ],
   "source": [
    "def seq_data(x, y, sequence_length):\n",
    "\n",
    "    x_seq = []\n",
    "    y_seq = []\n",
    "    for i in range(len(x) - sequence_length):\n",
    "        x_seq.append(x[i:i+sequence_length]) # a[2:6] -> 2, 3, 4, 5\n",
    "        y_seq.append(y[i+sequence_length]) # 그 다음날꺼 하나 예측\n",
    "\n",
    "    return torch.FloatTensor(x_seq).to(device), torch.FloatTensor(y_seq).to(device).view([-1, 1])\n",
    "\n",
    "\n",
    "\n",
    "split = 200 # 200까지는 train, 그 이후는 test\n",
    "sequence_length = 5\n",
    "\n",
    "x_seq, y_seq = seq_data(X, y, sequence_length) \n",
    "x_train_seq = x_seq[:split]\n",
    "y_train_seq = y_seq[:split]\n",
    "\n",
    "x_test_seq = x_seq[split:]\n",
    "y_test_seq = y_seq[split:]\n",
    "\n",
    "print(x_train_seq.size(), y_train_seq.size())\n",
    "print(x_test_seq.size(), y_test_seq.size())\n",
    "    \n",
    "# 맨앞 size는 row 개수\n",
    "# size에서 중간에 5는 sequence length 길이, 5일치\n",
    "# size에서 맨마지막 4는 컬럼 개수 \n"
   ]
  },
  {
   "cell_type": "code",
   "execution_count": 9,
   "metadata": {},
   "outputs": [],
   "source": [
    "'''\n",
    " PyTorch의 TensorDataset은 tensor를 감싸는 Dataset입니다.\n",
    "\n",
    " 인덱싱 방식과 길이를 정의함으로써 이것은 tensor의 첫 번째 차원을 따라 반복, 인덱스, 슬라이스를 위한 방법을 제공합니다.\n",
    "\n",
    " 훈련할 때 동일한 라인에서 독립 변수와 종속 변수에 쉽게 접근할 수 있습니다.\n",
    "'''\n",
    "\n",
    "train = torch.utils.data.TensorDataset(x_train_seq, y_train_seq)\n",
    "test = torch.utils.data.TensorDataset(x_test_seq, y_test_seq)\n",
    "\n",
    "batch_size = 32\n",
    "train_loader = torch.utils.data.DataLoader(dataset = train, batch_size = batch_size, shuffle=False)\n",
    "test_loader = torch.utils.data.DataLoader(dataset = test, batch_size = batch_size, shuffle=False)\n"
   ]
  },
  {
   "cell_type": "markdown",
   "metadata": {},
   "source": [
    "### Hyperparameter 설정"
   ]
  },
  {
   "cell_type": "code",
   "execution_count": 10,
   "metadata": {},
   "outputs": [],
   "source": [
    "# RNN\n",
    "input_size = x_seq.size(2)\n",
    "num_layers = 2\n",
    "hidden_size = 8\n",
    "\n",
    "# layer나 hidden size가 커지면 오버피팅될 가능성이 높다.\n"
   ]
  },
  {
   "cell_type": "code",
   "execution_count": 11,
   "metadata": {},
   "outputs": [],
   "source": [
    "class VanillaRNN(nn.Module):\n",
    "\n",
    "    def __init__(self, input_size, hidden_size, sequence_length, num_layers, device):\n",
    "        super(VanillaRNN, self).__init__()\n",
    "        self.device = device\n",
    "        self.hidden_size = hidden_size\n",
    "        self.num_layers = num_layers\n",
    "        self.rnn = nn.RNN(input_size, hidden_size, num_layers, batch_first = True) # 파이토치에서는 RNN을 한줄로 제공한다. 파이토치 RNN은 sequence 길이가 먼저 들어와야한다. 원래 permute로 순서를 바꿔줘야하는데\n",
    "        # 바꾸기 귀찮으면 batch_first = True로 설정해주면 된다.\n",
    "        self.fc = nn.Sequential(nn.Linear(hidden_size*sequence_length, 1), nn.Sigmoid()) # fully connected layer에 넣으려면 flatten해야한다.\n",
    "\n",
    "    def forward(self, x):\n",
    "        h0 = torch.zeros(self.num_layers, x.size()[0], self.hidden_size).to(self.device) # 초기 hidden state설정\n",
    "        out, _ = self.rnn(x, h0) # out: RNN의 마지막 레이어로부터 나온 output feature 반환, hn: hidden state반환\n",
    "        out = out.reshape(out.shape[0], -1)\n",
    "        out = self.fc(out)\n",
    "        return out"
   ]
  },
  {
   "cell_type": "code",
   "execution_count": 12,
   "metadata": {},
   "outputs": [],
   "source": [
    "model = VanillaRNN(input_size = input_size,\n",
    "                   hidden_size = hidden_size,\n",
    "                   sequence_length = sequence_length,\n",
    "                   num_layers = num_layers,\n",
    "                   device=device).to(device)"
   ]
  },
  {
   "cell_type": "code",
   "execution_count": 13,
   "metadata": {},
   "outputs": [],
   "source": [
    "criterion = nn.MSELoss()\n",
    "\n",
    "lr = 1e-3\n",
    "num_epochs = 200\n",
    "optimizer = optim.Adam(model.parameters(), lr= lr)\n"
   ]
  },
  {
   "cell_type": "markdown",
   "metadata": {},
   "source": [
    "### 모델 학습하기"
   ]
  },
  {
   "cell_type": "code",
   "execution_count": 14,
   "metadata": {},
   "outputs": [
    {
     "name": "stdout",
     "output_type": "stream",
     "text": [
      "[epoch: 0] loss: 0.1633\n",
      "[epoch: 100] loss: 0.0000\n"
     ]
    }
   ],
   "source": [
    "loss_graph = []\n",
    "n = len(train_loader)\n",
    "\n",
    "for epoch in range(num_epochs):\n",
    "    running_loss = 0.0\n",
    "\n",
    "    for data in train_loader:\n",
    "\n",
    "        seq, target = data # 배치 데이터\n",
    "        out = model(seq)\n",
    "        loss = criterion(out, target)\n",
    "\n",
    "        optimizer.zero_grad()\n",
    "        loss.backward()\n",
    "        optimizer.step()\n",
    "        running_loss += loss.item()\n",
    "\n",
    "\n",
    "    loss_graph.append(running_loss/n)\n",
    "    if epoch % 100 ==0:\n",
    "        print('[epoch: %d] loss: %.4f' %(epoch, running_loss/n))"
   ]
  },
  {
   "cell_type": "code",
   "execution_count": 15,
   "metadata": {},
   "outputs": [
    {
     "data": {
      "image/png": "[encoded data removed]",
      "text/plain": [
       "<Figure size 2000x1000 with 1 Axes>"
      ]
     },
     "metadata": {},
     "output_type": "display_data"
    }
   ],
   "source": [
    "plt.figure(figsize = (20, 10))\n",
    "plt.plot(loss_graph)\n",
    "plt.show()"
   ]
  },
  {
   "cell_type": "code",
   "execution_count": 16,
   "metadata": {},
   "outputs": [
    {
     "data": {
      "image/png": "[encoded data removed]",
      "text/plain": [
       "<Figure size 2000x1000 with 1 Axes>"
      ]
     },
     "metadata": {},
     "output_type": "display_data"
    }
   ],
   "source": [
    "def plotting(train_loader, test_loader, actual):\n",
    "    with torch.no_grad():\n",
    "        train_pred = []\n",
    "        test_pred = []\n",
    "\n",
    "        for data in train_loader:\n",
    "            seq, target = data # 배치 데이터\n",
    "            out = model(seq)\n",
    "            train_pred += out.cpu().numpy().tolist() # 이거 신기하네\n",
    "\n",
    "        for data in test_loader:\n",
    "            seq, target = data # 배치 데이터\n",
    "            out = model(seq)\n",
    "            test_pred += out.cpu().numpy().tolist()\n",
    "\n",
    "    total = train_pred+test_pred # 하나의 리스트안에 쭉 배열, train_pred 다음에 test_pred 값이 온다.\n",
    "    plt.figure(figsize = (20, 10))\n",
    "    plt.plot(np.ones(100)*len(train_pred), np.linspace(0, 1, 100), '--', linewidth = 0.6)\n",
    "    plt.plot(actual, '--')\n",
    "    plt.plot(total, 'b', linewidth=0.6)\n",
    "\n",
    "\n",
    "    plt.legend(['train boundary', 'actual', 'prediction'])\n",
    "    plt.show()\n",
    "\n",
    "plotting(train_loader, test_loader, df['Close'][sequence_length:])\n"
   ]
  },
  {
   "cell_type": "code",
   "execution_count": 17,
   "metadata": {},
   "outputs": [
    {
     "data": {
      "text/plain": [
       "[1, 2, 3, 4, 5, 6]"
      ]
     },
     "execution_count": 17,
     "metadata": {},
     "output_type": "execute_result"
    }
   ],
   "source": [
    "a= [1,2, 3]\n",
    "b=[4,5,6]\n",
    "a+b"
   ]
  },
  {
   "cell_type": "code",
   "execution_count": null,
   "metadata": {},
   "outputs": [],
   "source": []
  }
 ],
 "metadata": {
  "kernelspec": {
   "display_name": ".venv",
   "language": "python",
   "name": "python3"
  },
  "language_info": {
   "codemirror_mode": {
    "name": "ipython",
    "version": 3
   },
   "file_extension": ".py",
   "mimetype": "text/x-python",
   "name": "python",
   "nbconvert_exporter": "python",
   "pygments_lexer": "ipython3",
   "version": "3.8.3"
  },
  "orig_nbformat": 4
 },
 "nbformat": 4,
 "nbformat_minor": 2
}
