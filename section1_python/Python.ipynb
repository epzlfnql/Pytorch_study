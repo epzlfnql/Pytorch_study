{
 "cells": [
  {
   "attachments": {},
   "cell_type": "markdown",
   "metadata": {},
   "source": [
    "# Module\n",
    "- 한 파일 내에 많은 기능들을 구현한다면 코드가 복잡해지며 지저분하게 보일 수 있다.\n",
    "- 또한 같은 기능이나 별도로 관리해야 할 내용에 대해서 가독성이 떨어진다.\n",
    "- 따라서 코드를 구현할 때에는 기능에 따라 파일을 별도로 만들어 전체적인 코드를 완성한다.\n",
    "- 또한 별도의 파일을 생성하기 때문에 다른 업무에서 동일 작업이 필요할 때 파일만 불러와서 사용할 수 있어 중복된 코드를 작성할 필요가 없다. \n",
    "- 이때 전역 변수, 함수 등을 포함한 별도의 파일을 모듈이라고 한다."
   ]
  },
  {
   "cell_type": "code",
   "execution_count": 3,
   "metadata": {},
   "outputs": [],
   "source": [
    "import numpy as np\n",
    "import models\n"
   ]
  },
  {
   "cell_type": "code",
   "execution_count": 4,
   "metadata": {},
   "outputs": [
    {
     "data": {
      "text/plain": [
       "array([[ 69,  91,  64,  24, 102],\n",
       "       [ 25,  27,  15,  40,  54],\n",
       "       [ 97,  75,  69,  35,  35],\n",
       "       [ 92,  29,  84,  97,  55],\n",
       "       [ 80,   4,  80,  73,  49],\n",
       "       [ 40,  93,  49,  76,  61],\n",
       "       [  5,  74,  42,  56,  12],\n",
       "       [104,  18,  69,  94,  39],\n",
       "       [ 25,  82,  36,  26,  59],\n",
       "       [ 85,   4,  43,  55,  60]])"
      ]
     },
     "execution_count": 4,
     "metadata": {},
     "output_type": "execute_result"
    }
   ],
   "source": [
    "data = np.random.randint(0, 105, size = (10,5))\n",
    "data"
   ]
  },
  {
   "cell_type": "code",
   "execution_count": 5,
   "metadata": {},
   "outputs": [
    {
     "name": "stdout",
     "output_type": "stream",
     "text": [
      "Linear Regression\n"
     ]
    }
   ],
   "source": [
    "models.linear_regression(data)"
   ]
  },
  {
   "cell_type": "code",
   "execution_count": 9,
   "metadata": {},
   "outputs": [
    {
     "name": "stdout",
     "output_type": "stream",
     "text": [
      "Gaussian Mixture\n"
     ]
    }
   ],
   "source": [
    "models.gaussian_mixture(data)"
   ]
  },
  {
   "cell_type": "code",
   "execution_count": 10,
   "metadata": {},
   "outputs": [
    {
     "name": "stdout",
     "output_type": "stream",
     "text": [
      "Random Forest\n"
     ]
    }
   ],
   "source": [
    "models.random_forest(data)"
   ]
  },
  {
   "cell_type": "markdown",
   "metadata": {},
   "source": [
    "# 클래스\n",
    "- 어떤 하나의 기능을 구현 하는데 여러 개의 함수가 필요할 때가 있다. \n",
    "- 이 때, 데이터와 세부적인 기능을 수행하는 함수들을 묶어서 구현할 수 있는데 이때 기본적으로 사용되는 것이 클래스.\n",
    "- 클래스는 상속 등의 다양한 기능을 통해 프로그램의 복잡도를 감소시켜주며 확장에 매우 유리하게 작용.\n",
    "- 또한 중요 변수를 클래스에 넣어 외부의 변수들과 혼동될 위험을 줄여준다.\n"
   ]
  },
  {
   "cell_type": "code",
   "execution_count": 12,
   "metadata": {},
   "outputs": [],
   "source": [
    "import numpy as np\n",
    "from matplotlib import pyplot as plt"
   ]
  },
  {
   "cell_type": "code",
   "execution_count": 17,
   "metadata": {},
   "outputs": [],
   "source": [
    "data = np.random.normal(0, 10, (100, 1))\n",
    "target = np.random.normal(0, 1, 100)"
   ]
  },
  {
   "cell_type": "code",
   "execution_count": 18,
   "metadata": {},
   "outputs": [
    {
     "name": "stdout",
     "output_type": "stream",
     "text": [
      "[[  3.53247774]\n",
      " [-14.04241773]\n",
      " [ -1.1502914 ]\n",
      " [  1.36331985]\n",
      " [  7.00900478]]\n",
      "\n",
      "[-8.87683064e-01 -5.30746785e-01  2.06225678e+00 -1.85825615e-01\n",
      "  1.94759145e-03]\n"
     ]
    }
   ],
   "source": [
    "print(data[:5])\n",
    "print()\n",
    "print(target[:5])"
   ]
  },
  {
   "cell_type": "code",
   "execution_count": null,
   "metadata": {},
   "outputs": [],
   "source": []
  }
 ],
 "metadata": {
  "kernelspec": {
   "display_name": ".venv",
   "language": "python",
   "name": "python3"
  },
  "language_info": {
   "codemirror_mode": {
    "name": "ipython",
    "version": 3
   },
   "file_extension": ".py",
   "mimetype": "text/x-python",
   "name": "python",
   "nbconvert_exporter": "python",
   "pygments_lexer": "ipython3",
   "version": "3.8.3"
  },
  "orig_nbformat": 4
 },
 "nbformat": 4,
 "nbformat_minor": 2
}
